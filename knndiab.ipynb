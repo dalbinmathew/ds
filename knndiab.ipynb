{
  "metadata": {
    "kernelspec": {
      "name": "python",
      "display_name": "Python (Pyodide)",
      "language": "python"
    },
    "language_info": {
      "codemirror_mode": {
        "name": "python",
        "version": 3
      },
      "file_extension": ".py",
      "mimetype": "text/x-python",
      "name": "python",
      "nbconvert_exporter": "python",
      "pygments_lexer": "ipython3",
      "version": "3.8"
    }
  },
  "nbformat_minor": 4,
  "nbformat": 4,
  "cells": [
    {
      "cell_type": "code",
      "source": "# Exercise 5: K-Nearest Neighbour (KNN)\n\n# Importing necessary libraries\nimport pandas as pd\nimport numpy as np\nfrom sklearn import datasets\nfrom sklearn import neighbors\nfrom sklearn.model_selection import train_test_split\nfrom sklearn.metrics import accuracy_score\nimport matplotlib.pyplot as plt\n\n# Loading the Iris dataset\niris = datasets.load_iris()\nX, y = iris.data, iris.target\n\n# Splitting the dataset into training and testing sets\nX_train, X_test, y_train, y_test = train_test_split(X, y, train_size=0.7, random_state=78)\n\n# Creating and training the KNN classifier\nclassifier = neighbors.KNeighborsClassifier(n_neighbors=3)\nclassifier.fit(X_train, y_train)\n\n# Making predictions and calculating accuracy\ny_pred = classifier.predict(X_test)\naccuracy = accuracy_score(y_test, y_pred)\nprint(f'Accuracy: {accuracy * 100:.2f}%')\n\n# Prediction on unseen data\nresult = classifier.predict([[3.5, 5.1, 4.8, 2.9]])\nprint(\"Predicted Class:\", result[0])",
      "metadata": {
        "trusted": true
      },
      "outputs": [
        {
          "name": "stdout",
          "text": "Accuracy: 95.56%\n",
          "output_type": "stream"
        },
        {
          "ename": "<class 'TypeError'>",
          "evalue": "'numpy.ndarray' object is not callable",
          "traceback": [
            "\u001b[0;31m---------------------------------------------------------------------------\u001b[0m",
            "\u001b[0;31mTypeError\u001b[0m                                 Traceback (most recent call last)",
            "Cell \u001b[0;32mIn[2], line 30\u001b[0m\n\u001b[1;32m     28\u001b[0m \u001b[38;5;66;03m# Prediction on unseen data\u001b[39;00m\n\u001b[1;32m     29\u001b[0m result \u001b[38;5;241m=\u001b[39m classifier\u001b[38;5;241m.\u001b[39mpredict([[\u001b[38;5;241m3.5\u001b[39m, \u001b[38;5;241m5.1\u001b[39m, \u001b[38;5;241m4.8\u001b[39m, \u001b[38;5;241m2.9\u001b[39m]])\n\u001b[0;32m---> 30\u001b[0m \u001b[38;5;28mprint\u001b[39m(\u001b[38;5;124m\"\u001b[39m\u001b[38;5;124mPredicted Class:\u001b[39m\u001b[38;5;124m\"\u001b[39m, \u001b[43my\u001b[49m\u001b[43m(\u001b[49m\u001b[43mresult\u001b[49m\u001b[43m[\u001b[49m\u001b[38;5;241;43m0\u001b[39;49m\u001b[43m]\u001b[49m\u001b[43m)\u001b[49m)\n",
            "\u001b[0;31mTypeError\u001b[0m: 'numpy.ndarray' object is not callable"
          ],
          "output_type": "error"
        }
      ],
      "execution_count": 2
    },
    {
      "cell_type": "code",
      "source": "",
      "metadata": {
        "trusted": true
      },
      "outputs": [],
      "execution_count": null
    }
  ]
}